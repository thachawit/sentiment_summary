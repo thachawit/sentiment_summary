{
 "cells": [
  {
   "cell_type": "code",
   "execution_count": 46,
   "id": "6c8d318a",
   "metadata": {},
   "outputs": [],
   "source": [
    "import numpy as np\n",
    "import pandas as pd\n",
    "import matplotlib.pyplot as plt\n",
    "import seaborn as sns\n",
    "# import tensorflow as tf\n",
    "# from tensorflow import keras"
   ]
  },
  {
   "cell_type": "code",
   "execution_count": 47,
   "id": "2973b36e",
   "metadata": {
    "scrolled": true
   },
   "outputs": [
    {
     "data": {
      "text/html": [
       "<div>\n",
       "<style scoped>\n",
       "    .dataframe tbody tr th:only-of-type {\n",
       "        vertical-align: middle;\n",
       "    }\n",
       "\n",
       "    .dataframe tbody tr th {\n",
       "        vertical-align: top;\n",
       "    }\n",
       "\n",
       "    .dataframe thead th {\n",
       "        text-align: right;\n",
       "    }\n",
       "</style>\n",
       "<table border=\"1\" class=\"dataframe\">\n",
       "  <thead>\n",
       "    <tr style=\"text-align: right;\">\n",
       "      <th></th>\n",
       "      <th>clean_text</th>\n",
       "      <th>category</th>\n",
       "    </tr>\n",
       "  </thead>\n",
       "  <tbody>\n",
       "    <tr>\n",
       "      <th>0</th>\n",
       "      <td>when modi promised “minimum government maximum...</td>\n",
       "      <td>-1.0</td>\n",
       "    </tr>\n",
       "    <tr>\n",
       "      <th>1</th>\n",
       "      <td>talk all the nonsense and continue all the dra...</td>\n",
       "      <td>0.0</td>\n",
       "    </tr>\n",
       "    <tr>\n",
       "      <th>2</th>\n",
       "      <td>what did just say vote for modi  welcome bjp t...</td>\n",
       "      <td>1.0</td>\n",
       "    </tr>\n",
       "    <tr>\n",
       "      <th>3</th>\n",
       "      <td>asking his supporters prefix chowkidar their n...</td>\n",
       "      <td>1.0</td>\n",
       "    </tr>\n",
       "    <tr>\n",
       "      <th>4</th>\n",
       "      <td>answer who among these the most powerful world...</td>\n",
       "      <td>1.0</td>\n",
       "    </tr>\n",
       "  </tbody>\n",
       "</table>\n",
       "</div>"
      ],
      "text/plain": [
       "                                          clean_text  category\n",
       "0  when modi promised “minimum government maximum...      -1.0\n",
       "1  talk all the nonsense and continue all the dra...       0.0\n",
       "2  what did just say vote for modi  welcome bjp t...       1.0\n",
       "3  asking his supporters prefix chowkidar their n...       1.0\n",
       "4  answer who among these the most powerful world...       1.0"
      ]
     },
     "execution_count": 47,
     "metadata": {},
     "output_type": "execute_result"
    }
   ],
   "source": [
    "df = pd.read_csv(\"C:\\\\Users\\\\earn2\\\\Desktop\\\\Capstone Project\\\\Twitter notebook and model\\\\Twitter_Data.csv\")\n",
    "df.head()"
   ]
  },
  {
   "cell_type": "code",
   "execution_count": 48,
   "id": "cfd40b94",
   "metadata": {},
   "outputs": [
    {
     "data": {
      "text/plain": [
       "(162980, 2)"
      ]
     },
     "execution_count": 48,
     "metadata": {},
     "output_type": "execute_result"
    }
   ],
   "source": [
    "df.shape"
   ]
  },
  {
   "cell_type": "code",
   "execution_count": 49,
   "id": "319b65fc",
   "metadata": {},
   "outputs": [
    {
     "data": {
      "text/plain": [
       "clean_text    4\n",
       "category      7\n",
       "dtype: int64"
      ]
     },
     "execution_count": 49,
     "metadata": {},
     "output_type": "execute_result"
    }
   ],
   "source": [
    "df.isnull().sum()"
   ]
  },
  {
   "cell_type": "code",
   "execution_count": 50,
   "id": "d0c673ed",
   "metadata": {
    "scrolled": true
   },
   "outputs": [
    {
     "data": {
      "text/plain": [
       "clean_text    0\n",
       "category      0\n",
       "dtype: int64"
      ]
     },
     "execution_count": 50,
     "metadata": {},
     "output_type": "execute_result"
    }
   ],
   "source": [
    "df = df.dropna()\n",
    "df.isnull().sum()"
   ]
  },
  {
   "cell_type": "code",
   "execution_count": 51,
   "id": "bd7fbdbc",
   "metadata": {
    "scrolled": true
   },
   "outputs": [
    {
     "data": {
      "text/plain": [
       "0"
      ]
     },
     "execution_count": 51,
     "metadata": {},
     "output_type": "execute_result"
    }
   ],
   "source": [
    "df['clean_text'].duplicated().sum()"
   ]
  },
  {
   "cell_type": "code",
   "execution_count": 52,
   "id": "05fe9632",
   "metadata": {},
   "outputs": [],
   "source": [
    "df_cleaned = df"
   ]
  },
  {
   "cell_type": "code",
   "execution_count": 53,
   "id": "bd5d56fc",
   "metadata": {
    "scrolled": true
   },
   "outputs": [
    {
     "data": {
      "text/html": [
       "<div>\n",
       "<style scoped>\n",
       "    .dataframe tbody tr th:only-of-type {\n",
       "        vertical-align: middle;\n",
       "    }\n",
       "\n",
       "    .dataframe tbody tr th {\n",
       "        vertical-align: top;\n",
       "    }\n",
       "\n",
       "    .dataframe thead th {\n",
       "        text-align: right;\n",
       "    }\n",
       "</style>\n",
       "<table border=\"1\" class=\"dataframe\">\n",
       "  <thead>\n",
       "    <tr style=\"text-align: right;\">\n",
       "      <th></th>\n",
       "      <th>negative</th>\n",
       "      <th>neutral</th>\n",
       "      <th>positive</th>\n",
       "    </tr>\n",
       "  </thead>\n",
       "  <tbody>\n",
       "    <tr>\n",
       "      <th>0</th>\n",
       "      <td>1</td>\n",
       "      <td>0</td>\n",
       "      <td>0</td>\n",
       "    </tr>\n",
       "    <tr>\n",
       "      <th>1</th>\n",
       "      <td>0</td>\n",
       "      <td>1</td>\n",
       "      <td>0</td>\n",
       "    </tr>\n",
       "    <tr>\n",
       "      <th>2</th>\n",
       "      <td>0</td>\n",
       "      <td>0</td>\n",
       "      <td>1</td>\n",
       "    </tr>\n",
       "    <tr>\n",
       "      <th>3</th>\n",
       "      <td>0</td>\n",
       "      <td>0</td>\n",
       "      <td>1</td>\n",
       "    </tr>\n",
       "    <tr>\n",
       "      <th>4</th>\n",
       "      <td>0</td>\n",
       "      <td>0</td>\n",
       "      <td>1</td>\n",
       "    </tr>\n",
       "  </tbody>\n",
       "</table>\n",
       "</div>"
      ],
      "text/plain": [
       "   negative  neutral  positive\n",
       "0         1        0         0\n",
       "1         0        1         0\n",
       "2         0        0         1\n",
       "3         0        0         1\n",
       "4         0        0         1"
      ]
     },
     "execution_count": 53,
     "metadata": {},
     "output_type": "execute_result"
    }
   ],
   "source": [
    "label = pd.get_dummies(df_cleaned.category)\n",
    "label.columns = [\"negative\", \"neutral\", \"positive\"]\n",
    "label.head()"
   ]
  },
  {
   "cell_type": "code",
   "execution_count": 54,
   "id": "8a7628df",
   "metadata": {
    "scrolled": true
   },
   "outputs": [
    {
     "data": {
      "text/html": [
       "<div>\n",
       "<style scoped>\n",
       "    .dataframe tbody tr th:only-of-type {\n",
       "        vertical-align: middle;\n",
       "    }\n",
       "\n",
       "    .dataframe tbody tr th {\n",
       "        vertical-align: top;\n",
       "    }\n",
       "\n",
       "    .dataframe thead th {\n",
       "        text-align: right;\n",
       "    }\n",
       "</style>\n",
       "<table border=\"1\" class=\"dataframe\">\n",
       "  <thead>\n",
       "    <tr style=\"text-align: right;\">\n",
       "      <th></th>\n",
       "      <th>clean_text</th>\n",
       "    </tr>\n",
       "  </thead>\n",
       "  <tbody>\n",
       "    <tr>\n",
       "      <th>0</th>\n",
       "      <td>when modi promised “minimum government maximum...</td>\n",
       "    </tr>\n",
       "    <tr>\n",
       "      <th>1</th>\n",
       "      <td>talk all the nonsense and continue all the dra...</td>\n",
       "    </tr>\n",
       "    <tr>\n",
       "      <th>2</th>\n",
       "      <td>what did just say vote for modi  welcome bjp t...</td>\n",
       "    </tr>\n",
       "    <tr>\n",
       "      <th>3</th>\n",
       "      <td>asking his supporters prefix chowkidar their n...</td>\n",
       "    </tr>\n",
       "    <tr>\n",
       "      <th>4</th>\n",
       "      <td>answer who among these the most powerful world...</td>\n",
       "    </tr>\n",
       "  </tbody>\n",
       "</table>\n",
       "</div>"
      ],
      "text/plain": [
       "                                          clean_text\n",
       "0  when modi promised “minimum government maximum...\n",
       "1  talk all the nonsense and continue all the dra...\n",
       "2  what did just say vote for modi  welcome bjp t...\n",
       "3  asking his supporters prefix chowkidar their n...\n",
       "4  answer who among these the most powerful world..."
      ]
     },
     "execution_count": 54,
     "metadata": {},
     "output_type": "execute_result"
    }
   ],
   "source": [
    "text_only = df_cleaned.drop(columns = \"category\")\n",
    "text_only.head()"
   ]
  },
  {
   "cell_type": "markdown",
   "id": "6673ae07",
   "metadata": {},
   "source": [
    "## Tokenization"
   ]
  },
  {
   "cell_type": "code",
   "execution_count": 55,
   "id": "636838b2",
   "metadata": {},
   "outputs": [],
   "source": [
    "import tensorflow as tf\n",
    "from tensorflow import keras"
   ]
  },
  {
   "cell_type": "code",
   "execution_count": 56,
   "id": "5741e4b6",
   "metadata": {},
   "outputs": [],
   "source": [
    "from tensorflow.keras.preprocessing.sequence import pad_sequences\n",
    "from keras.preprocessing.text import Tokenizer"
   ]
  },
  {
   "cell_type": "code",
   "execution_count": 57,
   "id": "a6b0c18d",
   "metadata": {},
   "outputs": [],
   "source": [
    "tokenizer = Tokenizer(num_words = 8150, lower = True, split = \" \", oov_token = \"~\")\n",
    "tokenizer.fit_on_texts(text_only[\"clean_text\"])"
   ]
  },
  {
   "cell_type": "code",
   "execution_count": 58,
   "id": "d756977a",
   "metadata": {},
   "outputs": [
    {
     "data": {
      "text/plain": [
       "113679"
      ]
     },
     "execution_count": 58,
     "metadata": {},
     "output_type": "execute_result"
    }
   ],
   "source": [
    "word_ind = tokenizer.word_index\n",
    "len(word_ind)"
   ]
  },
  {
   "cell_type": "code",
   "execution_count": 59,
   "id": "073cc8af",
   "metadata": {
    "scrolled": true
   },
   "outputs": [
    {
     "data": {
      "text/plain": [
       "['~', 'modi', 'the', 'and', 'for', 'you', 'not', 'will', 'this', 'india']"
      ]
     },
     "execution_count": 59,
     "metadata": {},
     "output_type": "execute_result"
    }
   ],
   "source": [
    "list(word_ind.keys())[:10]"
   ]
  },
  {
   "cell_type": "code",
   "execution_count": 60,
   "id": "8a576cce",
   "metadata": {},
   "outputs": [],
   "source": [
    "text_only[\"clean_text\"] = tokenizer.texts_to_sequences(text_only[\"clean_text\"])"
   ]
  },
  {
   "cell_type": "code",
   "execution_count": 61,
   "id": "d4774b40",
   "metadata": {},
   "outputs": [
    {
     "data": {
      "text/html": [
       "<div>\n",
       "<style scoped>\n",
       "    .dataframe tbody tr th:only-of-type {\n",
       "        vertical-align: middle;\n",
       "    }\n",
       "\n",
       "    .dataframe tbody tr th {\n",
       "        vertical-align: top;\n",
       "    }\n",
       "\n",
       "    .dataframe thead th {\n",
       "        text-align: right;\n",
       "    }\n",
       "</style>\n",
       "<table border=\"1\" class=\"dataframe\">\n",
       "  <thead>\n",
       "    <tr style=\"text-align: right;\">\n",
       "      <th></th>\n",
       "      <th>clean_text</th>\n",
       "    </tr>\n",
       "  </thead>\n",
       "  <tbody>\n",
       "    <tr>\n",
       "      <th>0</th>\n",
       "      <td>[43, 2, 308, 1, 67, 1727, 1, 1120, 41, 2379, 3...</td>\n",
       "    </tr>\n",
       "    <tr>\n",
       "      <th>1</th>\n",
       "      <td>[287, 17, 3, 1105, 4, 719, 17, 3, 810, 8, 39, ...</td>\n",
       "    </tr>\n",
       "    <tr>\n",
       "      <th>2</th>\n",
       "      <td>[25, 54, 42, 100, 39, 5, 2, 1004, 22, 509, 6, ...</td>\n",
       "    </tr>\n",
       "    <tr>\n",
       "      <th>3</th>\n",
       "      <td>[384, 20, 497, 4731, 114, 44, 1222, 2, 54, 127...</td>\n",
       "    </tr>\n",
       "    <tr>\n",
       "      <th>4</th>\n",
       "      <td>[391, 23, 814, 80, 3, 174, 927, 128, 137, 125,...</td>\n",
       "    </tr>\n",
       "  </tbody>\n",
       "</table>\n",
       "</div>"
      ],
      "text/plain": [
       "                                          clean_text\n",
       "0  [43, 2, 308, 1, 67, 1727, 1, 1120, 41, 2379, 3...\n",
       "1  [287, 17, 3, 1105, 4, 719, 17, 3, 810, 8, 39, ...\n",
       "2  [25, 54, 42, 100, 39, 5, 2, 1004, 22, 509, 6, ...\n",
       "3  [384, 20, 497, 4731, 114, 44, 1222, 2, 54, 127...\n",
       "4  [391, 23, 814, 80, 3, 174, 927, 128, 137, 125,..."
      ]
     },
     "execution_count": 61,
     "metadata": {},
     "output_type": "execute_result"
    }
   ],
   "source": [
    "text_only.head()\n",
    "#match word with position no. in index_word"
   ]
  },
  {
   "cell_type": "code",
   "execution_count": 62,
   "id": "b592f9f9",
   "metadata": {},
   "outputs": [
    {
     "data": {
      "text/plain": [
       "(33, 13)"
      ]
     },
     "execution_count": 62,
     "metadata": {},
     "output_type": "execute_result"
    }
   ],
   "source": [
    "len(text_only.clean_text[0]), len(text_only.clean_text[1])\n",
    "#len of each tweets are not the same"
   ]
  },
  {
   "cell_type": "code",
   "execution_count": 63,
   "id": "7070a90f",
   "metadata": {},
   "outputs": [],
   "source": [
    "tweets = pad_sequences(text_only[\"clean_text\"])\n",
    "#make sequence have same shape"
   ]
  },
  {
   "cell_type": "code",
   "execution_count": 64,
   "id": "5273cf89",
   "metadata": {},
   "outputs": [
    {
     "data": {
      "text/plain": [
       "((52,), (52,))"
      ]
     },
     "execution_count": 64,
     "metadata": {},
     "output_type": "execute_result"
    }
   ],
   "source": [
    "tweets[0].shape, tweets[1].shape"
   ]
  },
  {
   "cell_type": "code",
   "execution_count": 65,
   "id": "1f3a5cd7",
   "metadata": {},
   "outputs": [],
   "source": [
    "#tweets[0][4:]"
   ]
  },
  {
   "cell_type": "code",
   "execution_count": 66,
   "id": "65879f7d",
   "metadata": {},
   "outputs": [],
   "source": [
    "#tokenizer.fit_on_texts(['i hate you so much because you are ugly'])"
   ]
  },
  {
   "cell_type": "code",
   "execution_count": 67,
   "id": "6941f517",
   "metadata": {},
   "outputs": [],
   "source": [
    "#text_input = tokenizer.texts_to_sequences(['i hate you so much because you are ugly'])"
   ]
  },
  {
   "cell_type": "code",
   "execution_count": 68,
   "id": "93b952f8",
   "metadata": {},
   "outputs": [],
   "source": [
    "#tweets_2 = pad_sequences(text_input)"
   ]
  },
  {
   "cell_type": "markdown",
   "id": "2a764f73",
   "metadata": {},
   "source": [
    "## Split Data"
   ]
  },
  {
   "cell_type": "code",
   "execution_count": 69,
   "id": "c37d4a43",
   "metadata": {},
   "outputs": [],
   "source": [
    "from sklearn.model_selection import train_test_split\n",
    "X_train, X_test, y_train, y_test = train_test_split(tweets, label, test_size = 0.15)"
   ]
  },
  {
   "cell_type": "code",
   "execution_count": 70,
   "id": "50411cd1",
   "metadata": {},
   "outputs": [],
   "source": [
    "X_train, X_valid, y_train, y_valid = train_test_split(X_train, y_train, test_size = 0.2)"
   ]
  },
  {
   "cell_type": "code",
   "execution_count": 71,
   "id": "2f575b41",
   "metadata": {},
   "outputs": [
    {
     "name": "stdout",
     "output_type": "stream",
     "text": [
      "\n",
      "Training set: tweets = (110818, 52), labels = (110818, 3),\n",
      "Validation set: tweets = (27705, 52), labels = (27705, 3),\n",
      "Test set: tweets = (24446, 52), labels = (24446, 3)\n",
      "\n"
     ]
    }
   ],
   "source": [
    "print(f\"\"\"\n",
    "Training set: tweets = {X_train.shape}, labels = {y_train.shape},\n",
    "Validation set: tweets = {X_valid.shape}, labels = {y_valid.shape},\n",
    "Test set: tweets = {X_test.shape}, labels = {y_test.shape}\n",
    "\"\"\")"
   ]
  },
  {
   "cell_type": "markdown",
   "id": "5856acf4",
   "metadata": {},
   "source": [
    "## Train Model"
   ]
  },
  {
   "cell_type": "code",
   "execution_count": 72,
   "id": "78498dcb",
   "metadata": {},
   "outputs": [
    {
     "name": "stdout",
     "output_type": "stream",
     "text": [
      "Model: \"sequential_1\"\n",
      "_________________________________________________________________\n",
      " Layer (type)                Output Shape              Param #   \n",
      "=================================================================\n",
      " embedding_1 (Embedding)     (None, None, 32)          260800    \n",
      "                                                                 \n",
      " gru_1 (GRU)                 (None, 128)               62208     \n",
      "                                                                 \n",
      " dense_2 (Dense)             (None, 128)               16512     \n",
      "                                                                 \n",
      " dropout_1 (Dropout)         (None, 128)               0         \n",
      "                                                                 \n",
      " dense_3 (Dense)             (None, 3)                 387       \n",
      "                                                                 \n",
      "=================================================================\n",
      "Total params: 339,907\n",
      "Trainable params: 339,907\n",
      "Non-trainable params: 0\n",
      "_________________________________________________________________\n"
     ]
    }
   ],
   "source": [
    "model = keras.models.Sequential([\n",
    "    keras.layers.Embedding(input_dim = 8150, output_dim = 32),\n",
    "    keras.layers.GRU(128),\n",
    "    keras.layers.Dense(128, activation = \"leaky_relu\", kernel_initializer = \"he_normal\", kernel_regularizer = \"l1\"),\n",
    "    keras.layers.Dropout(0.5),\n",
    "    keras.layers.Dense(3, activation = \"softmax\", kernel_initializer = \"glorot_normal\")\n",
    "])\n",
    "model.summary()"
   ]
  },
  {
   "cell_type": "code",
   "execution_count": 73,
   "id": "d4ab9078",
   "metadata": {},
   "outputs": [],
   "source": [
    "model.compile(optimizer = 'adam',loss = 'categorical_crossentropy',metrics = ['accuracy'])"
   ]
  },
  {
   "cell_type": "code",
   "execution_count": 74,
   "id": "147d3fd8",
   "metadata": {},
   "outputs": [
    {
     "name": "stdout",
     "output_type": "stream",
     "text": [
      "Epoch 1/500\n",
      "3464/3464 [==============================] - 104s 30ms/step - loss: 0.9465 - accuracy: 0.8432 - val_loss: 0.3431 - val_accuracy: 0.9359\n",
      "Epoch 2/500\n",
      "3464/3464 [==============================] - 98s 28ms/step - loss: 0.3131 - accuracy: 0.9525 - val_loss: 0.2784 - val_accuracy: 0.9607\n",
      "Epoch 3/500\n",
      "3464/3464 [==============================] - 111s 32ms/step - loss: 0.2676 - accuracy: 0.9645 - val_loss: 0.2694 - val_accuracy: 0.9612\n",
      "Epoch 4/500\n",
      "3464/3464 [==============================] - 143s 41ms/step - loss: 0.2456 - accuracy: 0.9701 - val_loss: 0.2449 - val_accuracy: 0.9668\n",
      "Epoch 5/500\n",
      "3464/3464 [==============================] - 108s 31ms/step - loss: 0.2293 - accuracy: 0.9739 - val_loss: 0.2349 - val_accuracy: 0.9645\n",
      "Epoch 6/500\n",
      "3464/3464 [==============================] - 118s 34ms/step - loss: 0.2164 - accuracy: 0.9767 - val_loss: 0.3357 - val_accuracy: 0.9576\n",
      "Epoch 7/500\n",
      "3464/3464 [==============================] - 117s 34ms/step - loss: 0.2092 - accuracy: 0.9787 - val_loss: 0.2712 - val_accuracy: 0.9633\n",
      "Epoch 8/500\n",
      "3464/3464 [==============================] - 187s 54ms/step - loss: 0.1933 - accuracy: 0.9824 - val_loss: 0.2655 - val_accuracy: 0.9617\n"
     ]
    }
   ],
   "source": [
    "history = model.fit(\n",
    "    X_train, y_train, \n",
    "    epochs = 500, validation_data = (X_valid, y_valid),\n",
    "    callbacks = [keras.callbacks.EarlyStopping(patience = 3, restore_best_weights = True)]\n",
    ")"
   ]
  },
  {
   "cell_type": "code",
   "execution_count": 75,
   "id": "82aeb7aa",
   "metadata": {},
   "outputs": [
    {
     "name": "stdout",
     "output_type": "stream",
     "text": [
      "764/764 [==============================] - 12s 15ms/step - loss: 0.2339 - accuracy: 0.9648\n"
     ]
    },
    {
     "data": {
      "text/plain": [
       "[0.23392677307128906, 0.9647794961929321]"
      ]
     },
     "execution_count": 75,
     "metadata": {},
     "output_type": "execute_result"
    }
   ],
   "source": [
    "model.evaluate(X_test, y_test)"
   ]
  },
  {
   "cell_type": "code",
   "execution_count": 76,
   "id": "3be448b9",
   "metadata": {},
   "outputs": [],
   "source": [
    "from tensorflow.keras import Model\n",
    "from keras.models import load_model"
   ]
  },
  {
   "cell_type": "code",
   "execution_count": 77,
   "id": "425fb4b6",
   "metadata": {},
   "outputs": [],
   "source": [
    "# model.save(\"C:\\\\Users\\\\earn2\\\\Desktop\\\\Capstone Project\\\\Model\\\\Twit_model\")"
   ]
  },
  {
   "cell_type": "code",
   "execution_count": 78,
   "id": "60534c71",
   "metadata": {},
   "outputs": [],
   "source": [
    "new_model = tf.keras.models.load_model(\"C:\\\\Users\\\\earn2\\\\Desktop\\\\Capstone Project\\\\Twitter notebook and model\\\\Model\\\\Twit_model\")"
   ]
  },
  {
   "cell_type": "code",
   "execution_count": 79,
   "id": "57ef17c8",
   "metadata": {},
   "outputs": [
    {
     "name": "stdout",
     "output_type": "stream",
     "text": [
      "866/866 [==============================] - 12s 13ms/step\n"
     ]
    },
    {
     "data": {
      "text/plain": [
       "array([[1.8179407e-03, 8.9995883e-04, 9.9728203e-01],\n",
       "       [9.9070823e-01, 3.6042314e-03, 5.6874878e-03],\n",
       "       [9.7680718e-01, 6.9138291e-03, 1.6279040e-02],\n",
       "       ...,\n",
       "       [2.0716127e-03, 9.9432236e-04, 9.9693406e-01],\n",
       "       [5.0744847e-03, 2.1577606e-03, 9.9276781e-01],\n",
       "       [2.1553237e-02, 5.2943402e-03, 9.7315246e-01]], dtype=float32)"
      ]
     },
     "execution_count": 79,
     "metadata": {},
     "output_type": "execute_result"
    }
   ],
   "source": [
    "new_model.predict(X_valid)"
   ]
  },
  {
   "cell_type": "code",
   "execution_count": 80,
   "id": "23ab175b",
   "metadata": {
    "scrolled": true
   },
   "outputs": [
    {
     "name": "stdout",
     "output_type": "stream",
     "text": [
      "866/866 [==============================] - 13s 15ms/step - loss: 0.2618 - accuracy: 0.9639\n"
     ]
    },
    {
     "data": {
      "text/plain": [
       "[0.26180246472358704, 0.9638693332672119]"
      ]
     },
     "execution_count": 80,
     "metadata": {},
     "output_type": "execute_result"
    }
   ],
   "source": [
    "new_model.evaluate(X_valid, y_valid)"
   ]
  },
  {
   "cell_type": "code",
   "execution_count": 81,
   "id": "5f123ae8",
   "metadata": {},
   "outputs": [],
   "source": [
    "def sentiment_analyzer(text):\n",
    "    tokenizer.fit_on_texts([text])\n",
    "    text_input = tokenizer.texts_to_sequences([text])\n",
    "    tweets = pad_sequences(text_input)\n",
    "    \n",
    "    prediction = new_model.predict(tweets)\n",
    "    \n",
    "    a = ['negative', 'neutral', 'positive']\n",
    "    return a[np.argmax(prediction)], prediction.max()"
   ]
  },
  {
   "cell_type": "code",
   "execution_count": 82,
   "id": "6912d10b",
   "metadata": {},
   "outputs": [
    {
     "name": "stdout",
     "output_type": "stream",
     "text": [
      "1/1 [==============================] - 0s 312ms/step\n"
     ]
    },
    {
     "data": {
      "text/plain": [
       "('negative', 0.9621541)"
      ]
     },
     "execution_count": 82,
     "metadata": {},
     "output_type": "execute_result"
    }
   ],
   "source": [
    "result = sentiment_analyzer('''\n",
    "Swapping batteries is stupid\n",
    "''')\n",
    "result"
   ]
  },
  {
   "cell_type": "code",
   "execution_count": null,
   "id": "248d5c4a",
   "metadata": {},
   "outputs": [],
   "source": []
  },
  {
   "cell_type": "code",
   "execution_count": null,
   "id": "051f4523",
   "metadata": {},
   "outputs": [],
   "source": []
  },
  {
   "cell_type": "code",
   "execution_count": null,
   "id": "6398d1c4",
   "metadata": {},
   "outputs": [],
   "source": []
  }
 ],
 "metadata": {
  "kernelspec": {
   "display_name": "Python 3",
   "language": "python",
   "name": "python3"
  },
  "language_info": {
   "codemirror_mode": {
    "name": "ipython",
    "version": 3
   },
   "file_extension": ".py",
   "mimetype": "text/x-python",
   "name": "python",
   "nbconvert_exporter": "python",
   "pygments_lexer": "ipython3",
   "version": "3.8.9"
  },
  "vscode": {
   "interpreter": {
    "hash": "31f2aee4e71d21fbe5cf8b01ff0e069b9275f58929596ceb00d14d90e3e16cd6"
   }
  }
 },
 "nbformat": 4,
 "nbformat_minor": 5
}
